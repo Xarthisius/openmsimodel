{
 "cells": [
  {
   "cell_type": "code",
   "execution_count": null,
   "metadata": {},
   "outputs": [],
   "source": [
    "import sys \n",
    "sys.path.insert(0, \"/srv/hemi01-j01/openmsimodel/openmsimodel\")\n",
    "from gemd import MaterialSpec,ProcessSpec,IngredientSpec,MeasurementSpec,ProcessRun,MaterialRun,IngredientRun,MeasurementRun,PerformedSource,ProcessTemplate,MaterialTemplate,MeasurementTemplate\n",
    "from gemd import FileLink\n",
    "from gemd.util.impl import recursive_foreach\n",
    "from gemd.json import GEMDJson\n",
    "from gemd import Parameter, Condition, Property, PropertyAndConditions, NominalCategorical, NominalInteger, NominalReal\n",
    "\n",
    "from base import BaseNode\n",
    "from materials import Alloy\n",
    "\n",
    "encoder = GEMDJson()"
   ]
  },
  {
   "cell_type": "code",
   "execution_count": 2,
   "metadata": {},
   "outputs": [
    {
     "name": "stdout",
     "output_type": "stream",
     "text": [
      "Can't instantiate abstract class BaseNode with abstract methods from_spec_or_run, run, spec, to_form\n"
     ]
    }
   ],
   "source": [
    "# cannot instantiate BaseNode alone\n",
    "try:\n",
    "    b = BaseNode('base')\n",
    "except Exception as e:\n",
    "    print(e)"
   ]
  },
  {
   "attachments": {},
   "cell_type": "markdown",
   "metadata": {},
   "source": [
    "#### normal instantiation\n",
    "####### requires creating the class, assigning a templates, assigning attributes, etc"
   ]
  },
  {
   "cell_type": "code",
   "execution_count": 3,
   "metadata": {},
   "outputs": [
    {
     "name": "stdout",
     "output_type": "stream",
     "text": [
      "{\"file_links\": [], \"name\": \"alloy\", \"notes\": null, \"process\": null, \"properties\": [], \"tags\": [], \"template\": {\"id\": \"a5454bf8-77f8-44ed-b73c-22187d63083a\", \"scope\": \"auto\", \"type\": \"link_by_uid\"}, \"type\": \"material_spec\", \"uids\": {\"auto\": \"2b3af783-eb00-481f-9bae-c4d07e66753e\"}}\n",
      "{\"file_links\": [], \"name\": \"alloy\", \"notes\": null, \"process\": null, \"sample_type\": null, \"spec\": {\"id\": \"2b3af783-eb00-481f-9bae-c4d07e66753e\", \"scope\": \"auto\", \"type\": \"link_by_uid\"}, \"tags\": [], \"type\": \"material_run\", \"uids\": {\"auto\": \"9a85dcd7-e24c-4146-93e7-cb8992cc87a2\"}}\n"
     ]
    }
   ],
   "source": [
    "# normal instantiation (requires creating the class, assigning a templates, assigning attributes, etc)\n",
    "name = 'alloy'\n",
    "a = Alloy(name)\n",
    "\n",
    "print(encoder.thin_dumps(a.spec))\n",
    "print(encoder.thin_dumps(a.run))"
   ]
  },
  {
   "attachments": {},
   "cell_type": "markdown",
   "metadata": {},
   "source": [
    "#### instantiation from spec "
   ]
  },
  {
   "cell_type": "code",
   "execution_count": 4,
   "metadata": {},
   "outputs": [
    {
     "name": "stdout",
     "output_type": "stream",
     "text": [
      "{\"file_links\": [], \"name\": \"alloy\", \"notes\": null, \"process\": null, \"properties\": [], \"tags\": [\"spec\"], \"template\": {\"id\": \"a5454bf8-77f8-44ed-b73c-22187d63083a\", \"scope\": \"auto\", \"type\": \"link_by_uid\"}, \"type\": \"material_spec\", \"uids\": {\"auto\": \"a5488b65-1e28-42c3-9de7-882932081344\"}}\n",
      "{\"file_links\": [], \"name\": \"alloy\", \"notes\": null, \"process\": null, \"sample_type\": \"unknown\", \"spec\": {\"id\": \"a5488b65-1e28-42c3-9de7-882932081344\", \"scope\": \"auto\", \"type\": \"link_by_uid\"}, \"tags\": [], \"type\": \"material_run\", \"uids\": {\"auto\": \"80a736d0-d83b-466e-a803-6c076b11582d\"}}\n"
     ]
    }
   ],
   "source": [
    "spec = MaterialSpec(\n",
    "    name=name,\n",
    "    tags=[\"spec\"]\n",
    ")\n",
    "\n",
    "a_bis = a.from_spec_or_run(name=name,\n",
    "                       spec=spec\n",
    "                       )\n",
    "print(encoder.thin_dumps(a_bis.spec))\n",
    "print(encoder.thin_dumps(a_bis.run))"
   ]
  },
  {
   "attachments": {},
   "cell_type": "markdown",
   "metadata": {},
   "source": [
    "#### instantiation from run "
   ]
  },
  {
   "cell_type": "code",
   "execution_count": 5,
   "metadata": {},
   "outputs": [
    {
     "name": "stdout",
     "output_type": "stream",
     "text": [
      "{\"file_links\": [], \"name\": \"alloy\", \"notes\": null, \"process\": null, \"properties\": [], \"tags\": [], \"template\": {\"id\": \"a5454bf8-77f8-44ed-b73c-22187d63083a\", \"scope\": \"auto\", \"type\": \"link_by_uid\"}, \"type\": \"material_spec\", \"uids\": {\"auto\": \"c8f86a2b-43c4-4fa5-9b79-868cc76fe91e\"}}\n",
      "{\"file_links\": [], \"name\": \"alloy\", \"notes\": null, \"process\": null, \"sample_type\": \"unknown\", \"spec\": {\"id\": \"c8f86a2b-43c4-4fa5-9b79-868cc76fe91e\", \"scope\": \"auto\", \"type\": \"link_by_uid\"}, \"tags\": [\"run\"], \"type\": \"material_run\", \"uids\": {\"auto\": \"0c1e8f08-348f-456d-8310-a3842c79b8b6\"}}\n"
     ]
    }
   ],
   "source": [
    "run = MaterialRun( \n",
    "    name=name,\n",
    "    spec=spec,\n",
    "    tags=[\"run\"]\n",
    ")\n",
    "\n",
    "a_bis = a.from_spec_or_run(name=name,\n",
    "                   run=run\n",
    "                   )\n",
    "\n",
    "print(encoder.thin_dumps(a_bis.spec))\n",
    "print(encoder.thin_dumps(a_bis.run))"
   ]
  },
  {
   "attachments": {},
   "cell_type": "markdown",
   "metadata": {},
   "source": [
    "#### instantiation from both "
   ]
  },
  {
   "cell_type": "code",
   "execution_count": 6,
   "metadata": {},
   "outputs": [
    {
     "name": "stdout",
     "output_type": "stream",
     "text": [
      "{\"file_links\": [], \"name\": \"alloy\", \"notes\": null, \"process\": null, \"properties\": [], \"tags\": [\"spec\"], \"template\": {\"id\": \"a5454bf8-77f8-44ed-b73c-22187d63083a\", \"scope\": \"auto\", \"type\": \"link_by_uid\"}, \"type\": \"material_spec\", \"uids\": {\"auto\": \"a5488b65-1e28-42c3-9de7-882932081344\"}}\n",
      "{\"file_links\": [], \"name\": \"alloy\", \"notes\": null, \"process\": null, \"sample_type\": \"unknown\", \"spec\": {\"id\": \"a5488b65-1e28-42c3-9de7-882932081344\", \"scope\": \"auto\", \"type\": \"link_by_uid\"}, \"tags\": [\"run\"], \"type\": \"material_run\", \"uids\": {\"auto\": \"0c1e8f08-348f-456d-8310-a3842c79b8b6\"}}\n"
     ]
    }
   ],
   "source": [
    "a_bis = a.from_spec_or_run(name=name,\n",
    "                   run=run,\n",
    "                   spec=spec\n",
    "                   )\n",
    "print(encoder.thin_dumps(a_bis.spec))\n",
    "print(encoder.thin_dumps(a_bis.run))"
   ]
  },
  {
   "attachments": {},
   "cell_type": "markdown",
   "metadata": {},
   "source": [
    "#### Attributes"
   ]
  },
  {
   "cell_type": "code",
   "execution_count": 7,
   "metadata": {},
   "outputs": [],
   "source": [
    "# updating attributes\n",
    "a._update_attributes(\n",
    "    AttrType=PropertyAndConditions,\n",
    "    attributes=(\n",
    "        PropertyAndConditions(\n",
    "            property=Property(\n",
    "                \"Form\",\n",
    "                value=NominalCategorical('Ingot'),\n",
    "            ),\n",
    "            conditions=[],\n",
    "        ),\n",
    "    ),\n",
    "    which='spec'\n",
    ")"
   ]
  },
  {
   "cell_type": "code",
   "execution_count": 8,
   "metadata": {},
   "outputs": [
    {
     "name": "stdout",
     "output_type": "stream",
     "text": [
      "{\n",
      "   \"properties\": {\n",
      "      \"Form\": {\n",
      "         \"bounds\": null,\n",
      "         \"default_value\": null,\n",
      "         \"prop\": {\n",
      "            \"id\": \"4a50c1c4-7a88-4feb-9635-aa3ff3ad36bf\",\n",
      "            \"scope\": \"auto\",\n",
      "            \"type\": \"link_by_uid\"\n",
      "         }\n",
      "      }\n",
      "   }\n",
      "}\n"
     ]
    }
   ],
   "source": [
    "print(encoder.thin_dumps(a._ATTRS, indent=3))"
   ]
  },
  {
   "cell_type": "code",
   "execution_count": 9,
   "metadata": {},
   "outputs": [
    {
     "name": "stdout",
     "output_type": "stream",
     "text": [
      "\"the 'Size' attribute is not among the object defined attributes.\"\n"
     ]
    }
   ],
   "source": [
    "# adding an attribute that wasn't registered will lead to an error\n",
    "try:\n",
    "    a._update_attributes(\n",
    "        AttrType=PropertyAndConditions,\n",
    "        attributes=(\n",
    "            PropertyAndConditions(\n",
    "                property=Property(\n",
    "                    \"Size\",\n",
    "                    value=NominalCategorical('Large'),\n",
    "                ),\n",
    "                conditions=[],\n",
    "            ),\n",
    "        ),\n",
    "        which='spec'\n",
    "    )\n",
    "except Exception as e:\n",
    "    print(e)"
   ]
  },
  {
   "cell_type": "code",
   "execution_count": 10,
   "metadata": {},
   "outputs": [
    {
     "data": {
      "text/plain": [
       "{'spec': (), 'run': ()}"
      ]
     },
     "execution_count": 10,
     "metadata": {},
     "output_type": "execute_result"
    }
   ],
   "source": [
    "a.get_filelinks_dict()"
   ]
  },
  {
   "cell_type": "code",
   "execution_count": 11,
   "metadata": {},
   "outputs": [
    {
     "data": {
      "text/plain": [
       "{'spec': {}, 'run': {}}"
      ]
     },
     "execution_count": 11,
     "metadata": {},
     "output_type": "execute_result"
    }
   ],
   "source": [
    "a.get_tags_dict()"
   ]
  },
  {
   "cell_type": "code",
   "execution_count": 12,
   "metadata": {},
   "outputs": [
    {
     "data": {
      "text/plain": [
       "{'Form': {'property': {'value': {'category': 'Ingot',\n",
       "    'type': 'nominal_categorical'},\n",
       "   'origin': 'predicted'},\n",
       "  'conditions': {}}}"
      ]
     },
     "execution_count": 12,
     "metadata": {},
     "output_type": "execute_result"
    }
   ],
   "source": [
    "a.get_properties_and_conditions_dict()"
   ]
  },
  {
   "cell_type": "code",
   "execution_count": 13,
   "metadata": {},
   "outputs": [],
   "source": [
    "a.get_sample_type()"
   ]
  },
  {
   "cell_type": "code",
   "execution_count": 14,
   "metadata": {},
   "outputs": [
    {
     "ename": "TypeError",
     "evalue": "_prop_cond_dict() missing 1 required positional argument: 'spec_prop_conds'",
     "output_type": "error",
     "traceback": [
      "\u001b[0;31m---------------------------------------------------------------------------\u001b[0m",
      "\u001b[0;31mTypeError\u001b[0m                                 Traceback (most recent call last)",
      "Cell \u001b[0;32mIn[14], line 1\u001b[0m\n\u001b[0;32m----> 1\u001b[0m a\u001b[39m.\u001b[39;49m_prop_cond_dict()\n",
      "\u001b[0;31mTypeError\u001b[0m: _prop_cond_dict() missing 1 required positional argument: 'spec_prop_conds'"
     ]
    }
   ],
   "source": [
    "a._prop_cond_dict()"
   ]
  },
  {
   "cell_type": "code",
   "execution_count": null,
   "metadata": {},
   "outputs": [],
   "source": [
    "a.to_form()"
   ]
  },
  {
   "cell_type": "code",
   "execution_count": null,
   "metadata": {},
   "outputs": [],
   "source": [
    "# what to do with dumping?"
   ]
  }
 ],
 "metadata": {
  "kernelspec": {
   "display_name": "birdshot",
   "language": "python",
   "name": "python3"
  },
  "language_info": {
   "codemirror_mode": {
    "name": "ipython",
    "version": 3
   },
   "file_extension": ".py",
   "mimetype": "text/x-python",
   "name": "python",
   "nbconvert_exporter": "python",
   "pygments_lexer": "ipython3",
   "version": "3.9.16 (main, Mar  8 2023, 14:00:05) \n[GCC 11.2.0]"
  },
  "orig_nbformat": 4,
  "vscode": {
   "interpreter": {
    "hash": "c93de424c187b5f45150c4b68957697054d2d10439b831359c08b5dbeaa012b5"
   }
  }
 },
 "nbformat": 4,
 "nbformat_minor": 2
}
