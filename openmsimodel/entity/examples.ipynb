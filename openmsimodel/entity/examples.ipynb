{
 "cells": [
  {
   "cell_type": "code",
   "execution_count": 150,
   "metadata": {},
   "outputs": [],
   "source": [
    "from gemd import MaterialSpec,ProcessSpec,IngredientSpec,MeasurementSpec,ProcessRun,MaterialRun,IngredientRun,MeasurementRun,PerformedSource,ProcessTemplate,MaterialTemplate,MeasurementTemplate\n",
    "from gemd import FileLink\n",
    "from typing import ClassVar\n",
    "from gemd.util.impl import recursive_foreach\n",
    "from gemd.json import GEMDJson\n",
    "from gemd import Parameter, Condition, Property, PropertyAndConditions, NominalCategorical, NominalInteger, NominalReal\n",
    "from base.base_node import BaseNode\n",
    "from materials import Alloy\n",
    "\n",
    "encoder = GEMDJson()"
   ]
  },
  {
   "cell_type": "code",
   "execution_count": 152,
   "metadata": {},
   "outputs": [
    {
     "name": "stdout",
     "output_type": "stream",
     "text": [
      "Can't instantiate abstract class BaseNode with abstract methods from_spec_or_run, run, spec, to_form\n"
     ]
    }
   ],
   "source": [
    "# cannot instantiate BaseNode alone\n",
    "try:\n",
    "    b = BaseNode('base')\n",
    "except Exception as e:\n",
    "    print(e)"
   ]
  },
  {
   "cell_type": "code",
   "execution_count": 153,
   "metadata": {},
   "outputs": [
    {
     "ename": "TypeError",
     "evalue": "'PropertyAndConditions' object is not iterable",
     "output_type": "error",
     "traceback": [
      "\u001b[0;31m---------------------------------------------------------------------------\u001b[0m",
      "\u001b[0;31mTypeError\u001b[0m                                 Traceback (most recent call last)",
      "Cell \u001b[0;32mIn[153], line 4\u001b[0m\n\u001b[1;32m      2\u001b[0m name \u001b[39m=\u001b[39m \u001b[39m'\u001b[39m\u001b[39malloy\u001b[39m\u001b[39m'\u001b[39m\n\u001b[1;32m      3\u001b[0m a \u001b[39m=\u001b[39m Alloy(name)\n\u001b[0;32m----> 4\u001b[0m a\u001b[39m.\u001b[39;49m_update_attributes(\n\u001b[1;32m      5\u001b[0m     AttrType\u001b[39m=\u001b[39;49mPropertyAndConditions,\n\u001b[1;32m      6\u001b[0m     attributes\u001b[39m=\u001b[39;49m(\n\u001b[1;32m      7\u001b[0m         PropertyAndConditions(\n\u001b[1;32m      8\u001b[0m             \u001b[39mproperty\u001b[39;49m\u001b[39m=\u001b[39;49mProperty(\n\u001b[1;32m      9\u001b[0m                 \u001b[39m\"\u001b[39;49m\u001b[39mForm\u001b[39;49m\u001b[39m\"\u001b[39;49m,\n\u001b[1;32m     10\u001b[0m                 value\u001b[39m=\u001b[39;49mNominalCategorical(\u001b[39m'\u001b[39;49m\u001b[39mIngot\u001b[39;49m\u001b[39m'\u001b[39;49m),\n\u001b[1;32m     11\u001b[0m                 origin\u001b[39m=\u001b[39;49m\u001b[39m\"\u001b[39;49m\u001b[39mpredicted\u001b[39;49m\u001b[39m\"\u001b[39;49m,\n\u001b[1;32m     12\u001b[0m                 notes\u001b[39m=\u001b[39;49m\u001b[39m\"\u001b[39;49m\u001b[39m\"\u001b[39;49m,\n\u001b[1;32m     13\u001b[0m                 file_links\u001b[39m=\u001b[39;49m[],\n\u001b[1;32m     14\u001b[0m             ),\n\u001b[1;32m     15\u001b[0m             conditions\u001b[39m=\u001b[39;49m[],\n\u001b[1;32m     16\u001b[0m         )\n\u001b[1;32m     17\u001b[0m     ),\n\u001b[1;32m     18\u001b[0m     which\u001b[39m=\u001b[39;49m\u001b[39m'\u001b[39;49m\u001b[39mspec\u001b[39;49m\u001b[39m'\u001b[39;49m\n\u001b[1;32m     19\u001b[0m )\n",
      "File \u001b[0;32m/srv/hemi01-j01/gemd_tools/entity/base/base_node.py:109\u001b[0m, in \u001b[0;36mBaseNode._update_attributes\u001b[0;34m(self, AttrType, attributes, replace_all, which)\u001b[0m\n\u001b[1;32m    100\u001b[0m \u001b[39mdef\u001b[39;00m \u001b[39m_update_attributes\u001b[39m(\n\u001b[1;32m    101\u001b[0m     \u001b[39mself\u001b[39m,\n\u001b[1;32m    102\u001b[0m     AttrType: Type[BaseAttribute],\n\u001b[0;32m   (...)\u001b[0m\n\u001b[1;32m    105\u001b[0m     which: SpecRunLiteral \u001b[39m=\u001b[39m \u001b[39m\"\u001b[39m\u001b[39mspec\u001b[39m\u001b[39m\"\u001b[39m,\n\u001b[1;32m    106\u001b[0m ) \u001b[39m-\u001b[39m\u001b[39m>\u001b[39m \u001b[39mNone\u001b[39;00m:\n\u001b[1;32m    107\u001b[0m \u001b[39m    \u001b[39m\u001b[39m\"\"\"Update attributes and link attribute templates.\"\"\"\u001b[39;00m\n\u001b[0;32m--> 109\u001b[0m     update_attrs(\n\u001b[1;32m    110\u001b[0m         \u001b[39mself\u001b[39;49m\u001b[39m.\u001b[39;49m_ATTRS, \u001b[39mself\u001b[39;49m\u001b[39m.\u001b[39;49m_spec, \u001b[39mself\u001b[39;49m\u001b[39m.\u001b[39;49m_run, AttrType, attributes, replace_all, which\n\u001b[1;32m    111\u001b[0m     )\n",
      "File \u001b[0;32m/srv/hemi01-j01/gemd_tools/entity/base/attributes.py:151\u001b[0m, in \u001b[0;36mupdate_attrs\u001b[0;34m(attrs, spec, run, AttrType, attributes, replace_all, which)\u001b[0m\n\u001b[1;32m    145\u001b[0m required_attrs \u001b[39m=\u001b[39m _required_attrs(attrs, AttrType, attr_dict_key, plural)\n\u001b[1;32m    147\u001b[0m \u001b[39m# for attr in attributes:\u001b[39;00m\n\u001b[1;32m    148\u001b[0m \u001b[39m#     if attr.name not in attrs[plural]:\u001b[39;00m\n\u001b[1;32m    149\u001b[0m \u001b[39m#         raise ValueError(f'{singular.capitalize()} \"{attr.name}\" is not supported.')\u001b[39;00m\n\u001b[0;32m--> 151\u001b[0m supplied_attrs \u001b[39m=\u001b[39m {attr\u001b[39m.\u001b[39mname: attr \u001b[39mfor\u001b[39;00m attr \u001b[39min\u001b[39;00m attributes}\n\u001b[1;32m    153\u001b[0m \u001b[39mfor\u001b[39;00m attr_name, attr \u001b[39min\u001b[39;00m supplied_attrs\u001b[39m.\u001b[39mitems():\n\u001b[1;32m    154\u001b[0m     \u001b[39m# TODO: quick fix for now for having multiple version of a same template (i.e., ambient ressure, purging pressure for the same parameter template: pressure )\u001b[39;00m\n\u001b[1;32m    155\u001b[0m     \u001b[39m# TODO: applies to uncommented bloc of code above that caused errors\u001b[39;00m\n\u001b[1;32m    156\u001b[0m     \u001b[39mif\u001b[39;00m attr\u001b[39m.\u001b[39mtemplate \u001b[39mis\u001b[39;00m \u001b[39mnot\u001b[39;00m \u001b[39mNone\u001b[39;00m:\n",
      "\u001b[0;31mTypeError\u001b[0m: 'PropertyAndConditions' object is not iterable"
     ]
    }
   ],
   "source": [
    "# normal instantiation\n",
    "name = 'alloy'\n",
    "a = Alloy(name)\n",
    "a._update_attributes(\n",
    "    AttrType=PropertyAndConditions,\n",
    "    attributes=(\n",
    "        PropertyAndConditions(\n",
    "            property=Property(\n",
    "                \"Form\",\n",
    "                value=NominalCategorical('Ingot'),\n",
    "                origin=\"predicted\",\n",
    "                notes=\"\",\n",
    "                file_links=[],\n",
    "            ),\n",
    "            conditions=[],\n",
    "        )\n",
    "    ),\n",
    "    which='spec'\n",
    ")"
   ]
  },
  {
   "cell_type": "code",
   "execution_count": null,
   "metadata": {},
   "outputs": [
    {
     "name": "stdout",
     "output_type": "stream",
     "text": [
      "{\"file_links\": [], \"name\": \"alloy\", \"notes\": null, \"process\": null, \"properties\": [], \"tags\": [], \"template\": {\"id\": \"01993ce3-3feb-4e57-88e0-0970b4ebb06f\", \"scope\": \"auto\", \"type\": \"link_by_uid\"}, \"type\": \"material_spec\", \"uids\": {\"auto\": \"c05720d8-b969-4f00-a240-d6140e3aca1f\"}}\n",
      "{\"file_links\": [], \"name\": \"alloy\", \"notes\": null, \"process\": null, \"sample_type\": null, \"spec\": {\"id\": \"c05720d8-b969-4f00-a240-d6140e3aca1f\", \"scope\": \"auto\", \"type\": \"link_by_uid\"}, \"tags\": [], \"type\": \"material_run\", \"uids\": {\"auto\": \"b1f1c4dc-be58-43d5-bdbe-bc1d5056d057\"}}\n"
     ]
    }
   ],
   "source": [
    "# accessing @properties\n",
    "print(encoder.thin_dumps(a.spec))\n",
    "print(encoder.thin_dumps(a.run))"
   ]
  },
  {
   "cell_type": "code",
   "execution_count": null,
   "metadata": {},
   "outputs": [
    {
     "ename": "AttributeError",
     "evalue": "can't set attribute",
     "output_type": "error",
     "traceback": [
      "\u001b[0;31m---------------------------------------------------------------------------\u001b[0m",
      "\u001b[0;31mAttributeError\u001b[0m                            Traceback (most recent call last)",
      "Cell \u001b[0;32mIn[109], line 14\u001b[0m\n\u001b[1;32m      3\u001b[0m alloy_spec \u001b[39m=\u001b[39m MaterialSpec(\n\u001b[1;32m      4\u001b[0m     name\u001b[39m=\u001b[39mname,\n\u001b[1;32m      5\u001b[0m     \u001b[39m# template=Alloy.TEMPLATE,\u001b[39;00m\n\u001b[1;32m      6\u001b[0m     \u001b[39m# process=\u001b[39;00m\n\u001b[1;32m      7\u001b[0m )\n\u001b[1;32m      9\u001b[0m alloy_run \u001b[39m=\u001b[39m MaterialRun( \n\u001b[1;32m     10\u001b[0m     name\u001b[39m=\u001b[39mname,\n\u001b[1;32m     11\u001b[0m     spec\u001b[39m=\u001b[39malloy_spec,\n\u001b[1;32m     12\u001b[0m )\n\u001b[0;32m---> 14\u001b[0m a\u001b[39m.\u001b[39;49mfrom_spec_or_run(name\u001b[39m=\u001b[39;49mname,\n\u001b[1;32m     15\u001b[0m                    spec\u001b[39m=\u001b[39;49malloy_spec\n\u001b[1;32m     16\u001b[0m                    )\n",
      "File \u001b[0;32m/srv/hemi01-j01/gemd_tools/entity/base/material.py:85\u001b[0m, in \u001b[0;36mMaterial.from_spec_or_run\u001b[0;34m(cls, name, notes, spec, run)\u001b[0m\n\u001b[1;32m     82\u001b[0m \u001b[39mif\u001b[39;00m \u001b[39mnot\u001b[39;00m \u001b[39misinstance\u001b[39m(spec, MaterialSpec):\n\u001b[1;32m     83\u001b[0m     \u001b[39mraise\u001b[39;00m \u001b[39mTypeError\u001b[39;00m(\u001b[39m'\u001b[39m\u001b[39mspec must be a MaterialSpec.\u001b[39m\u001b[39m'\u001b[39m)\n\u001b[0;32m---> 85\u001b[0m material\u001b[39m.\u001b[39;49mspec \u001b[39m=\u001b[39m spec\n\u001b[1;32m     87\u001b[0m material\u001b[39m.\u001b[39mspec\u001b[39m.\u001b[39mname \u001b[39m=\u001b[39m name\n\u001b[1;32m     88\u001b[0m material\u001b[39m.\u001b[39mspec\u001b[39m.\u001b[39mnotes \u001b[39m=\u001b[39m notes\n",
      "\u001b[0;31mAttributeError\u001b[0m: can't set attribute"
     ]
    }
   ],
   "source": [
    "# instantiation from spec \n",
    "\n",
    "alloy_spec = MaterialSpec(\n",
    "    name=name,\n",
    "    # template=Alloy.TEMPLATE,\n",
    "    # process=\n",
    ")\n",
    "\n",
    "alloy_run = MaterialRun( \n",
    "    name=name,\n",
    "    spec=alloy_spec,\n",
    ")\n",
    "\n",
    "a.from_spec_or_run(name=name,\n",
    "                   spec=alloy_spec\n",
    "                   )"
   ]
  },
  {
   "cell_type": "code",
   "execution_count": null,
   "metadata": {},
   "outputs": [
    {
     "ename": "AttributeError",
     "evalue": "can't set attribute",
     "output_type": "error",
     "traceback": [
      "\u001b[0;31m---------------------------------------------------------------------------\u001b[0m",
      "\u001b[0;31mAttributeError\u001b[0m                            Traceback (most recent call last)",
      "Cell \u001b[0;32mIn[102], line 1\u001b[0m\n\u001b[0;32m----> 1\u001b[0m a\u001b[39m.\u001b[39;49mfrom_spec_or_run(name\u001b[39m=\u001b[39;49mname,\n\u001b[1;32m      2\u001b[0m                    run\u001b[39m=\u001b[39;49malloy_run\n\u001b[1;32m      3\u001b[0m                    )\n",
      "File \u001b[0;32m/srv/hemi01-j01/gemd_tools/entity/base/material.py:98\u001b[0m, in \u001b[0;36mMaterial.from_spec_or_run\u001b[0;34m(cls, name, notes, spec, run)\u001b[0m\n\u001b[1;32m     95\u001b[0m \u001b[39mif\u001b[39;00m \u001b[39mnot\u001b[39;00m \u001b[39misinstance\u001b[39m(run, MaterialRun):\n\u001b[1;32m     96\u001b[0m     \u001b[39mraise\u001b[39;00m \u001b[39mTypeError\u001b[39;00m(\u001b[39m'\u001b[39m\u001b[39mrun must be a MaterialRun.\u001b[39m\u001b[39m'\u001b[39m)\n\u001b[0;32m---> 98\u001b[0m material\u001b[39m.\u001b[39;49mrun \u001b[39m=\u001b[39m run\n\u001b[1;32m     99\u001b[0m material\u001b[39m.\u001b[39mrun\u001b[39m.\u001b[39mname \u001b[39m=\u001b[39m name\n\u001b[1;32m    100\u001b[0m material\u001b[39m.\u001b[39mrun\u001b[39m.\u001b[39mnotes \u001b[39m=\u001b[39m notes\n",
      "\u001b[0;31mAttributeError\u001b[0m: can't set attribute"
     ]
    }
   ],
   "source": [
    "# instantiation from run\n",
    "a.from_spec_or_run(name=name,\n",
    "                   run=alloy_run\n",
    "                   )"
   ]
  },
  {
   "cell_type": "code",
   "execution_count": null,
   "metadata": {},
   "outputs": [
    {
     "ename": "AttributeError",
     "evalue": "can't set attribute",
     "output_type": "error",
     "traceback": [
      "\u001b[0;31m---------------------------------------------------------------------------\u001b[0m",
      "\u001b[0;31mAttributeError\u001b[0m                            Traceback (most recent call last)",
      "Cell \u001b[0;32mIn[110], line 2\u001b[0m\n\u001b[1;32m      1\u001b[0m \u001b[39m# instantiation from run and spec\u001b[39;00m\n\u001b[0;32m----> 2\u001b[0m a\u001b[39m.\u001b[39;49mfrom_spec_or_run(name\u001b[39m=\u001b[39;49mname,\n\u001b[1;32m      3\u001b[0m                    run\u001b[39m=\u001b[39;49malloy_spec,\n\u001b[1;32m      4\u001b[0m                    spec\u001b[39m=\u001b[39;49malloy_spec\n\u001b[1;32m      5\u001b[0m                    )\n",
      "File \u001b[0;32m/srv/hemi01-j01/gemd_tools/entity/base/material.py:85\u001b[0m, in \u001b[0;36mMaterial.from_spec_or_run\u001b[0;34m(cls, name, notes, spec, run)\u001b[0m\n\u001b[1;32m     82\u001b[0m \u001b[39mif\u001b[39;00m \u001b[39mnot\u001b[39;00m \u001b[39misinstance\u001b[39m(spec, MaterialSpec):\n\u001b[1;32m     83\u001b[0m     \u001b[39mraise\u001b[39;00m \u001b[39mTypeError\u001b[39;00m(\u001b[39m'\u001b[39m\u001b[39mspec must be a MaterialSpec.\u001b[39m\u001b[39m'\u001b[39m)\n\u001b[0;32m---> 85\u001b[0m material\u001b[39m.\u001b[39;49mspec \u001b[39m=\u001b[39m spec\n\u001b[1;32m     87\u001b[0m material\u001b[39m.\u001b[39mspec\u001b[39m.\u001b[39mname \u001b[39m=\u001b[39m name\n\u001b[1;32m     88\u001b[0m material\u001b[39m.\u001b[39mspec\u001b[39m.\u001b[39mnotes \u001b[39m=\u001b[39m notes\n",
      "\u001b[0;31mAttributeError\u001b[0m: can't set attribute"
     ]
    }
   ],
   "source": [
    "# instantiation from run and spec\n",
    "a.from_spec_or_run(name=name,\n",
    "                   run=alloy_spec,\n",
    "                   spec=alloy_spec\n",
    "                   )"
   ]
  },
  {
   "cell_type": "code",
   "execution_count": null,
   "metadata": {},
   "outputs": [
    {
     "data": {
      "text/plain": [
       "{'spec': (), 'run': ()}"
      ]
     },
     "execution_count": 113,
     "metadata": {},
     "output_type": "execute_result"
    }
   ],
   "source": [
    "a.get_filelinks_dict()"
   ]
  },
  {
   "cell_type": "code",
   "execution_count": null,
   "metadata": {},
   "outputs": [
    {
     "data": {
      "text/plain": [
       "{'spec': {}, 'run': {}}"
      ]
     },
     "execution_count": 114,
     "metadata": {},
     "output_type": "execute_result"
    }
   ],
   "source": [
    "a.get_tags_dict()"
   ]
  },
  {
   "cell_type": "code",
   "execution_count": null,
   "metadata": {},
   "outputs": [
    {
     "data": {
      "text/plain": [
       "{}"
      ]
     },
     "execution_count": 119,
     "metadata": {},
     "output_type": "execute_result"
    }
   ],
   "source": [
    "a.get_properties_and_conditions_dict()"
   ]
  },
  {
   "cell_type": "code",
   "execution_count": null,
   "metadata": {},
   "outputs": [],
   "source": [
    "a.get_sample_type()"
   ]
  },
  {
   "cell_type": "code",
   "execution_count": null,
   "metadata": {},
   "outputs": [
    {
     "ename": "TypeError",
     "evalue": "_prop_cond_dict() missing 1 required positional argument: 'spec_prop_conds'",
     "output_type": "error",
     "traceback": [
      "\u001b[0;31m---------------------------------------------------------------------------\u001b[0m",
      "\u001b[0;31mTypeError\u001b[0m                                 Traceback (most recent call last)",
      "Cell \u001b[0;32mIn[118], line 1\u001b[0m\n\u001b[0;32m----> 1\u001b[0m a\u001b[39m.\u001b[39;49m_prop_cond_dict()\n",
      "\u001b[0;31mTypeError\u001b[0m: _prop_cond_dict() missing 1 required positional argument: 'spec_prop_conds'"
     ]
    }
   ],
   "source": [
    "a._prop_cond_dict()"
   ]
  },
  {
   "cell_type": "code",
   "execution_count": null,
   "metadata": {},
   "outputs": [],
   "source": [
    "a.to_form()"
   ]
  },
  {
   "cell_type": "code",
   "execution_count": null,
   "metadata": {},
   "outputs": [],
   "source": [
    "# what to do with dumping?"
   ]
  }
 ],
 "metadata": {
  "kernelspec": {
   "display_name": "birdshot",
   "language": "python",
   "name": "python3"
  },
  "language_info": {
   "codemirror_mode": {
    "name": "ipython",
    "version": 3
   },
   "file_extension": ".py",
   "mimetype": "text/x-python",
   "name": "python",
   "nbconvert_exporter": "python",
   "pygments_lexer": "ipython3",
   "version": "3.9.16"
  },
  "orig_nbformat": 4,
  "vscode": {
   "interpreter": {
    "hash": "c93de424c187b5f45150c4b68957697054d2d10439b831359c08b5dbeaa012b5"
   }
  }
 },
 "nbformat": 4,
 "nbformat_minor": 2
}
